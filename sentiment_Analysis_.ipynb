{
  "nbformat": 4,
  "nbformat_minor": 0,
  "metadata": {
    "colab": {
      "provenance": [],
      "authorship_tag": "ABX9TyPz+POsU44R8VIoOceIKabZ",
      "include_colab_link": true
    },
    "kernelspec": {
      "name": "python3",
      "display_name": "Python 3"
    },
    "language_info": {
      "name": "python"
    }
  },
  "cells": [
    {
      "cell_type": "markdown",
      "metadata": {
        "id": "view-in-github",
        "colab_type": "text"
      },
      "source": [
        "<a href=\"https://colab.research.google.com/github/Anitha0120/Twitter-sentiment-analysis/blob/main/sentiment_Analysis_.ipynb\" target=\"_parent\"><img src=\"https://colab.research.google.com/assets/colab-badge.svg\" alt=\"Open In Colab\"/></a>"
      ]
    },
    {
      "cell_type": "code",
      "source": [
        "pip install nltk textblob pandas\n"
      ],
      "metadata": {
        "colab": {
          "base_uri": "https://localhost:8080/"
        },
        "id": "VzhPPftfYvTq",
        "outputId": "db4d96a3-e0f6-4682-a148-7c932a543a96"
      },
      "execution_count": 1,
      "outputs": [
        {
          "output_type": "stream",
          "name": "stdout",
          "text": [
            "Requirement already satisfied: nltk in /usr/local/lib/python3.12/dist-packages (3.9.1)\n",
            "Requirement already satisfied: textblob in /usr/local/lib/python3.12/dist-packages (0.19.0)\n",
            "Requirement already satisfied: pandas in /usr/local/lib/python3.12/dist-packages (2.2.2)\n",
            "Requirement already satisfied: click in /usr/local/lib/python3.12/dist-packages (from nltk) (8.2.1)\n",
            "Requirement already satisfied: joblib in /usr/local/lib/python3.12/dist-packages (from nltk) (1.5.2)\n",
            "Requirement already satisfied: regex>=2021.8.3 in /usr/local/lib/python3.12/dist-packages (from nltk) (2024.11.6)\n",
            "Requirement already satisfied: tqdm in /usr/local/lib/python3.12/dist-packages (from nltk) (4.67.1)\n",
            "Requirement already satisfied: numpy>=1.26.0 in /usr/local/lib/python3.12/dist-packages (from pandas) (2.0.2)\n",
            "Requirement already satisfied: python-dateutil>=2.8.2 in /usr/local/lib/python3.12/dist-packages (from pandas) (2.9.0.post0)\n",
            "Requirement already satisfied: pytz>=2020.1 in /usr/local/lib/python3.12/dist-packages (from pandas) (2025.2)\n",
            "Requirement already satisfied: tzdata>=2022.7 in /usr/local/lib/python3.12/dist-packages (from pandas) (2025.2)\n",
            "Requirement already satisfied: six>=1.5 in /usr/local/lib/python3.12/dist-packages (from python-dateutil>=2.8.2->pandas) (1.17.0)\n"
          ]
        }
      ]
    },
    {
      "cell_type": "code",
      "source": [
        "import re\n",
        "import pandas as pd\n",
        "import nltk\n",
        "from textblob import TextBlob\n",
        "\n",
        "# Download necessary NLTK corpora (only once)\n",
        "nltk.download('punkt')\n",
        "# Function to clean tweet\n",
        "def clean_tweet(tweet):\n",
        "    tweet = re.sub(r'http\\S+|www\\S+|https\\S+', '', tweet, flags=re.MULTILINE)  # remove URLs\n",
        "    tweet = re.sub(r'\\@\\w+|\\#','', tweet)  # remove mentions and hashtags\n",
        "    tweet = re.sub(r'[^\\w\\s]', '', tweet)  # remove punctuation\n",
        "    tweet = re.sub(r'\\d+', '', tweet)      # remove numbers\n",
        "    tweet = tweet.lower().strip()          # lower and strip\n",
        "    return tweet\n",
        "# Function to get sentiment\n",
        "\n",
        "def get_sentiment(tweet):\n",
        "    analysis = TextBlob(tweet)\n",
        "    polarity = analysis.sentiment.polarity\n",
        "    if polarity > 0:\n",
        "        return 'Positive'\n",
        "    elif polarity < 0:\n",
        "        return 'Negative'\n",
        "    else:\n",
        "        return 'Neutral'\n",
        "# Load or define your data\n",
        "\n",
        "data = {\n",
        "    'tweet': [\n",
        "        \"I love the new design of the iPhone!\",\n",
        "        \"This is the worst update ever. I hate it!\",\n",
        "        \"I’m not sure how I feel about the new changes.\",\n",
        "        \"Absolutely fantastic customer service. Well done!\",\n",
        "        \"The app keeps crashing. Very frustrating.\",\n",
        "        \"Nothing special, just an average experience.\",\n",
        "        \"Can't complain, it works fine.\"\n",
        "    ]\n",
        "}\n",
        "\n",
        "df = pd.DataFrame(data)\n",
        "\n",
        "df['cleaned_tweet'] = df['tweet'].apply(clean_tweet)\n",
        "df['sentiment'] = df['cleaned_tweet'].apply(get_sentiment)\n",
        "\n",
        "# Display results\n",
        "print(df[['tweet', 'sentiment']])\n"
      ],
      "metadata": {
        "colab": {
          "base_uri": "https://localhost:8080/"
        },
        "id": "LWR6tZQhY8Kk",
        "outputId": "37e0bec8-aede-47ee-e13b-5ed25306c641"
      },
      "execution_count": 2,
      "outputs": [
        {
          "output_type": "stream",
          "name": "stderr",
          "text": [
            "[nltk_data] Downloading package punkt to /root/nltk_data...\n",
            "[nltk_data]   Unzipping tokenizers/punkt.zip.\n"
          ]
        },
        {
          "output_type": "stream",
          "name": "stdout",
          "text": [
            "                                               tweet sentiment\n",
            "0               I love the new design of the iPhone!  Positive\n",
            "1          This is the worst update ever. I hate it!  Negative\n",
            "2     I’m not sure how I feel about the new changes.  Negative\n",
            "3  Absolutely fantastic customer service. Well done!  Positive\n",
            "4          The app keeps crashing. Very frustrating.  Negative\n",
            "5       Nothing special, just an average experience.  Positive\n",
            "6                     Can't complain, it works fine.  Positive\n"
          ]
        }
      ]
    }
  ]
}